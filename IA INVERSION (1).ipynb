{
 "cells": [
  {
   "cell_type": "markdown",
   "id": "b0126069",
   "metadata": {},
   "source": [
    "# NOTEBOOK IA DE INVERSIÓN"
   ]
  },
  {
   "cell_type": "markdown",
   "id": "878d8137",
   "metadata": {},
   "source": [
    "## Recolección de datos"
   ]
  },
  {
   "cell_type": "code",
   "execution_count": 2,
   "id": "ef48909d",
   "metadata": {},
   "outputs": [
    {
     "ename": "ModuleNotFoundError",
     "evalue": "No module named 'matplotlib'",
     "output_type": "error",
     "traceback": [
      "\u001b[1;31m---------------------------------------------------------------------------\u001b[0m",
      "\u001b[1;31mModuleNotFoundError\u001b[0m                       Traceback (most recent call last)",
      "Cell \u001b[1;32mIn[2], line 4\u001b[0m\n\u001b[0;32m      1\u001b[0m \u001b[38;5;28;01mimport\u001b[39;00m \u001b[38;5;21;01mpandas\u001b[39;00m \u001b[38;5;28;01mas\u001b[39;00m \u001b[38;5;21;01mpd\u001b[39;00m\n\u001b[0;32m      2\u001b[0m \u001b[38;5;28;01mimport\u001b[39;00m \u001b[38;5;21;01mnumpy\u001b[39;00m \u001b[38;5;28;01mas\u001b[39;00m \u001b[38;5;21;01mnp\u001b[39;00m\n\u001b[1;32m----> 4\u001b[0m \u001b[38;5;28;01mimport\u001b[39;00m \u001b[38;5;21;01mmatplotlib\u001b[39;00m\u001b[38;5;21;01m.\u001b[39;00m\u001b[38;5;21;01mpyplot\u001b[39;00m \u001b[38;5;28;01mas\u001b[39;00m \u001b[38;5;21;01mplt\u001b[39;00m\n\u001b[0;32m      5\u001b[0m \u001b[38;5;28;01mimport\u001b[39;00m \u001b[38;5;21;01mseaborn\u001b[39;00m \u001b[38;5;28;01mas\u001b[39;00m \u001b[38;5;21;01msns\u001b[39;00m\n\u001b[0;32m      6\u001b[0m sns\u001b[38;5;241m.\u001b[39mset_style(\u001b[38;5;124m'\u001b[39m\u001b[38;5;124mwhitegrid\u001b[39m\u001b[38;5;124m'\u001b[39m)\n",
      "\u001b[1;31mModuleNotFoundError\u001b[0m: No module named 'matplotlib'"
     ]
    }
   ],
   "source": [
    "import pandas as pd\n",
    "import numpy as np\n",
    "\n",
    "import matplotlib.pyplot as plt\n",
    "import seaborn as sns\n",
    "sns.set_style('whitegrid')\n",
    "plt.style.use(\"fivethirtyeight\")\n",
    "%matplotlib inline"
   ]
  },
  {
   "cell_type": "code",
   "execution_count": null,
   "id": "ce741721-8bbb-4fb9-8022-bd23a8344212",
   "metadata": {},
   "outputs": [],
   "source": [
    "# Para leer stocks de Yahoo finance\n",
    "from pandas_datareader.data import DataReader\n",
    "import yfinance as yf\n",
    "from pandas_datareader import data as pdr\n",
    "\n",
    "yf.pdr_override()"
   ]
  },
  {
   "cell_type": "code",
   "execution_count": null,
   "id": "412b1e77-7bcf-4342-98cd-a3baca218d7b",
   "metadata": {},
   "outputs": [],
   "source": [
    "# \"Datetime\" nos ayuda a concretar un tiempo\n",
    "from datetime import datetime"
   ]
  },
  {
   "cell_type": "code",
   "execution_count": null,
   "id": "c38a21c3-fa80-4902-a6f8-367f6c830bb0",
   "metadata": {},
   "outputs": [],
   "source": [
    "# El tipo de empresas que cogemos, en este caso, empresas que venden moviles\n",
    "tech_list = ['AAPL', 'MSI', 'XIACF']"
   ]
  },
  {
   "cell_type": "code",
   "execution_count": null,
   "id": "dccf82ea-e798-42a4-83bd-37f8a6b95ddb",
   "metadata": {},
   "outputs": [],
   "source": [
    "# Damos un  inicio y un final al tiempo para la recolección de datos\n",
    "tech_list = ['AAPL', 'MSI', 'XIACF']\n",
    "\n",
    "end = datetime.now()\n",
    "start = datetime(end.year - 1, end.month, end.day)\n",
    "\n",
    "for stock in tech_list:\n",
    "    globals()[stock] = yf.download(stock, start, end)\n",
    "    \n",
    "\n",
    "company_list = [AAPL, MSI, XIACF]\n",
    "company_name = [\"APPLE\", \"MOTOROLA\", \"XIAOMI\"]\n",
    "\n",
    "for company, com_name in zip(company_list, company_name):\n",
    "    company[\"company_name\"] = com_name\n",
    "    \n",
    "df = pd.concat(company_list, axis=0)\n",
    "df.tail(10)"
   ]
  },
  {
   "cell_type": "markdown",
   "id": "c667f0ac",
   "metadata": {},
   "source": [
    "# Visualización de datos"
   ]
  },
  {
   "cell_type": "markdown",
   "id": "7b2fc432",
   "metadata": {},
   "source": [
    ".describe genera estadisticas descriptivas para resumir la tendencia general, la dispersión y así ver mejor la distribución del dataset; excluyendo los valores NaN\n",
    "\n",
    "Open-High-Low-Close(OHLC) es una de las practicas que se utilizan para recolectar puntos claves de datos pertinentes de una empresa "
   ]
  },
  {
   "cell_type": "code",
   "execution_count": null,
   "id": "4fb6d517-db12-4d0d-ac1d-8f8221e91944",
   "metadata": {},
   "outputs": [],
   "source": [
    "AAPL.describe()"
   ]
  },
  {
   "cell_type": "markdown",
   "id": "7e192ac2",
   "metadata": {},
   "source": [
    "Tenemos un total de 255 dias, ya que no estan los fines de semana. La bolsa opera de lunes a viernes. "
   ]
  },
  {
   "cell_type": "code",
   "execution_count": null,
   "id": "9b8c1da8-6bfa-45cb-b446-f6abe265c879",
   "metadata": {
    "scrolled": true
   },
   "outputs": [],
   "source": [
    "# Para visualizar información general\n",
    "AAPL.info()"
   ]
  },
  {
   "cell_type": "markdown",
   "id": "296a02c7",
   "metadata": {},
   "source": [
    "## Precio de cierre"
   ]
  },
  {
   "cell_type": "markdown",
   "id": "cda87788",
   "metadata": {},
   "source": [
    "El precio de cierre es el último precio al que se cotiza la acción durante el día de negociación habitual. El precio de cierre de una acción es el punto de referencia estándar que utilizan los inversores para seguir su rendimiento a lo largo del tiempo.\n"
   ]
  },
  {
   "cell_type": "code",
   "execution_count": null,
   "id": "9965e0ce-828c-49c0-8129-a39dc41276e9",
   "metadata": {},
   "outputs": [],
   "source": [
    "# En estos graficos vemos el historico del precio de cierre \n",
    "plt.figure(figsize=(15, 10))\n",
    "plt.subplots_adjust(top=1.25, bottom=1.2)\n",
    "\n",
    "for i, company in enumerate(company_list, 1):\n",
    "    plt.subplot(2, 2, i)\n",
    "    company['Adj Close'].plot()\n",
    "    plt.ylabel('Adj Close')\n",
    "    plt.xlabel(None)\n",
    "    plt.title(f\"Closing Price of {tech_list[i - 1]}\")\n",
    "    \n",
    "plt.tight_layout()"
   ]
  },
  {
   "cell_type": "markdown",
   "id": "f965ba79",
   "metadata": {},
   "source": [
    "## Volumen de ventas"
   ]
  },
  {
   "cell_type": "markdown",
   "id": "477129fc",
   "metadata": {},
   "source": [
    "El volumen es la cantidad de un activo o valor que cambia de manos durante un período de tiempo, a menudo en el transcurso de un día. \n",
    "\n",
    "Por ejemplo, el volumen de negociación de acciones se referiría a la cantidad de acciones de un valor negociadas entre su apertura y cierre diarios. \n",
    "\n",
    "El volumen de negociación y los cambios en el volumen a lo largo del tiempo son datos importantes para los indicadores técnicos."
   ]
  },
  {
   "cell_type": "code",
   "execution_count": null,
   "id": "b2c04e35-62fd-45cb-8dc9-71c2ffbff3cc",
   "metadata": {},
   "outputs": [],
   "source": [
    "# Ahora haremos algunos graficos con el volumen total de acciones que se negocian cada día.\n",
    "plt.figure(figsize=(15, 10))\n",
    "plt.subplots_adjust(top=1.25, bottom=1.2)\n",
    "\n",
    "for i, company in enumerate(company_list, 1):\n",
    "    plt.subplot(2, 2, i)\n",
    "    company['Volume'].plot()\n",
    "    plt.ylabel('Volume')\n",
    "    plt.xlabel(None)\n",
    "    plt.title(f\"Sales Volume for {tech_list[i - 1]}\")\n",
    "    \n",
    "plt.tight_layout()"
   ]
  },
  {
   "cell_type": "markdown",
   "id": "265a3932",
   "metadata": {},
   "source": [
    "## Indicador tecnico: Moving average"
   ]
  },
  {
   "cell_type": "markdown",
   "id": "74d4067d",
   "metadata": {},
   "source": [
    "Es una herramienta de analisis tecnico simple (indicador), nos da una tendencia del precio, lo cual suaviza los cambios de precio ya que nos da un precio promedio.\n",
    "\n",
    "Este promedio se da en un periodo de tiempo especifico (20 minutos, 10 dias, 30 dias, 1 año...)"
   ]
  },
  {
   "cell_type": "code",
   "execution_count": null,
   "id": "46bd1110-efea-4a70-b514-6a4d1f2110a5",
   "metadata": {},
   "outputs": [],
   "source": [
    "ma_day = [5, 10, 30]\n",
    "\n",
    "for ma in ma_day:\n",
    "    for company in company_list:\n",
    "        column_name = f\"MA for {ma} days\"\n",
    "        company[column_name] = company['Adj Close'].rolling(ma).mean()\n",
    "        \n",
    "\n",
    "fig, axes = plt.subplots(nrows=2, ncols=2)\n",
    "fig.set_figheight(10)\n",
    "fig.set_figwidth(15)\n",
    "\n",
    "AAPL[['Adj Close', 'MA for 5 days', 'MA for 10 days', 'MA for 30 days']].plot(ax=axes[0,0])\n",
    "axes[0,0].set_title('APPLE')\n",
    "\n",
    "XIACF[['Adj Close', 'MA for 5 days', 'MA for 10 days', 'MA for 30 days']].plot(ax=axes[0,1])\n",
    "axes[0,1].set_title('XIAOMI')\n",
    "\n",
    "MSI[['Adj Close', 'MA for 5 days', 'MA for 10 days', 'MA for 30 days']].plot(ax=axes[1,0])\n",
    "axes[1,0].set_title('MOTOROLA')\n",
    "\n",
    "fig.tight_layout()"
   ]
  },
  {
   "cell_type": "markdown",
   "id": "30395e8b",
   "metadata": {},
   "source": [
    "Vemos que 30 dias se desplaza algo mas, mientras que los 5 y 10 dias capturan mejor la tendencia."
   ]
  },
  {
   "cell_type": "markdown",
   "id": "4b00bc90",
   "metadata": {},
   "source": [
    "## Rendimiento promedio diario de las acciones"
   ]
  },
  {
   "cell_type": "markdown",
   "id": "d025c4c2",
   "metadata": {},
   "source": [
    "Ahora que hemos realizado un análisis de referencia, creo que podemos profundizar un poco más. \n",
    "\n",
    "Analizaremos el riesgo de las acciones. Para ello, tendremos que observar más de cerca los cambios diarios de las acciones, y no solo su valor absoluto. \n",
    "\n",
    "Utilizaremos Pandas para recuperar los rendimientos diarios de las acciones de Apple."
   ]
  },
  {
   "cell_type": "code",
   "execution_count": null,
   "id": "e40b1e64-0deb-44ec-a478-d8f69754907a",
   "metadata": {},
   "outputs": [],
   "source": [
    "# Usaremos pct_change para encontrar el cambio en porcentajes para cada día.\n",
    "for company in company_list:\n",
    "    company['Daily Return'] = company['Adj Close'].pct_change()\n",
    "\n",
    "# Sacareos los porcentajes del rendimiento\n",
    "fig, axes = plt.subplots(nrows=2, ncols=2)\n",
    "fig.set_figheight(10)\n",
    "fig.set_figwidth(15)\n",
    "\n",
    "AAPL['Daily Return'].plot(ax=axes[0,0], legend=True, linestyle='--', marker='o')\n",
    "axes[0,0].set_title('APPLE')\n",
    "\n",
    "MSI['Daily Return'].plot(ax=axes[0,1], legend=True, linestyle='--', marker='o')\n",
    "axes[0,1].set_title('MOTOROLA')\n",
    "\n",
    "XIACF['Daily Return'].plot(ax=axes[1,0], legend=True, linestyle='--', marker='o')\n",
    "axes[1,0].set_title('XIAOMI')\n",
    "\n",
    "fig.tight_layout()"
   ]
  },
  {
   "cell_type": "markdown",
   "id": "af195b1e",
   "metadata": {},
   "source": [
    "Ahora que hemos visto el rendimiento general utilizando un histograma, utilizaremos seaborn para crear un histograma y un kde plot en la misma figura"
   ]
  },
  {
   "cell_type": "code",
   "execution_count": null,
   "id": "ea29a385-70c1-42aa-98a7-f5c5f7d314d0",
   "metadata": {},
   "outputs": [],
   "source": [
    "plt.figure(figsize=(12, 9))\n",
    "\n",
    "for i, company in enumerate(company_list, 1):\n",
    "    plt.subplot(2, 2, i)\n",
    "    company['Daily Return'].hist(bins=50)\n",
    "    plt.xlabel('Daily Return')\n",
    "    plt.ylabel('Counts')\n",
    "    plt.title(f'{company_name[i - 1]}')\n",
    "    \n",
    "plt.tight_layout()"
   ]
  },
  {
   "cell_type": "markdown",
   "id": "7db888fd",
   "metadata": {},
   "source": [
    "## Correlación entre precios de cierre"
   ]
  },
  {
   "cell_type": "markdown",
   "id": "d32cd45e",
   "metadata": {},
   "source": [
    "La correlación es una estadística que mide el grado en que dos variables se mueven entre sí y tiene un valor que debe estar entre -1,0 y +1,0. \n",
    "\n",
    "La correlación mide la asociación, pero no muestra si x causa y o viceversa, o si la asociación es causada por un tercer factor"
   ]
  },
  {
   "cell_type": "code",
   "execution_count": null,
   "id": "486d5d6c-4318-417c-8c0f-8ee9ecea2596",
   "metadata": {},
   "outputs": [],
   "source": [
    "# Obtenemos todos los precios de cierre de la lista de acciones en un solo DataFrame\n",
    "\n",
    "closing_df = pdr.get_data_yahoo(tech_list, start=start, end=end)['Adj Close']\n",
    "\n",
    "# Y hacemos el nuevo DataFrame\n",
    "tech_rets = closing_df.pct_change()\n",
    "tech_rets.head()"
   ]
  },
  {
   "cell_type": "code",
   "execution_count": null,
   "id": "22f96839-9331-4dd6-9a4e-e56b1281327c",
   "metadata": {},
   "outputs": [],
   "source": [
    "# Comparar a una empresa con si misma deberia darnos una relación lineal perfecta. Aqui podemos ver un ejemplo\n",
    "sns.jointplot(x='MSI', y='MSI', data=tech_rets, kind='scatter', color='seagreen')"
   ]
  },
  {
   "cell_type": "code",
   "execution_count": null,
   "id": "2a7fac5b-b5bd-41e1-a915-b2eb22a6084f",
   "metadata": {},
   "outputs": [],
   "source": [
    "# We'll use joinplot to compare the daily returns of Google and Microsoft\n",
    "sns.jointplot(x='MSI', y='XIACF', data=tech_rets, kind='scatter')"
   ]
  },
  {
   "cell_type": "markdown",
   "id": "9a544aeb",
   "metadata": {},
   "source": [
    "Aquí podemos ver si dos empresas de inversión estan alineadas y si lo están de forma positiva. "
   ]
  },
  {
   "cell_type": "code",
   "execution_count": null,
   "id": "35b096d2",
   "metadata": {},
   "outputs": [],
   "source": [
    "# Podemos simplemente llamar a pairplot en nuestro DataFrame para un análisis visual automático \n",
    "# de todas las comparaciones\n",
    "\n",
    "\n",
    "sns.pairplot(tech_rets, kind='reg')"
   ]
  },
  {
   "cell_type": "markdown",
   "id": "571b94f8",
   "metadata": {},
   "source": [
    "Arriba podemos ver las relaciones entre las diferentes empresas.\n",
    "\n",
    "A diferencia del notebook original, nosotros vemos pocas relaciones entre ellas.\n",
    "Como mucho parece tenerla Apple y Motorola, que lo hace de forma mas o menos positiva, aunque con mucha dispersión"
   ]
  },
  {
   "cell_type": "code",
   "execution_count": null,
   "id": "e713282f",
   "metadata": {},
   "outputs": [],
   "source": [
    "# Set up our figure by naming it returns_fig, call PairPLot on the DataFrame\n",
    "return_fig = sns.PairGrid(tech_rets.dropna())\n",
    "\n",
    "# Using map_upper we can specify what the upper triangle will look like.\n",
    "return_fig.map_upper(plt.scatter, color='purple')\n",
    "\n",
    "# We can also define the lower triangle in the figure, inclufing the plot type (kde) \n",
    "# or the color map (BluePurple)\n",
    "return_fig.map_lower(sns.kdeplot, cmap='cool_d')\n",
    "\n",
    "# Finally we'll define the diagonal as a series of histogram plots of the daily return\n",
    "return_fig.map_diag(plt.hist, bins=30)"
   ]
  },
  {
   "cell_type": "code",
   "execution_count": null,
   "id": "cf9c3d37",
   "metadata": {},
   "outputs": [],
   "source": [
    "# Set up our figure by naming it returns_fig, call PairPLot on the DataFrame\n",
    "returns_fig = sns.PairGrid(closing_df)\n",
    "\n",
    "# Using map_upper we can specify what the upper triangle will look like.\n",
    "returns_fig.map_upper(plt.scatter,color='purple')\n",
    "\n",
    "# We can also define the lower triangle in the figure, inclufing the plot type (kde) or the color map (BluePurple)\n",
    "returns_fig.map_lower(sns.kdeplot,cmap='cool_d')\n",
    "\n",
    "# Finally we'll define the diagonal as a series of histogram plots of the daily return\n",
    "returns_fig.map_diag(plt.hist,bins=30)"
   ]
  },
  {
   "cell_type": "markdown",
   "id": "72b4dbbb",
   "metadata": {},
   "source": [
    "Pero a parte de las graficas, podemos verlo también de forma numérica"
   ]
  },
  {
   "cell_type": "code",
   "execution_count": null,
   "id": "84ffe61d",
   "metadata": {},
   "outputs": [],
   "source": [
    "plt.figure(figsize=(12, 10))\n",
    "\n",
    "plt.subplot(2, 2, 1)\n",
    "sns.heatmap(tech_rets.corr(), annot=True, cmap='summer')\n",
    "plt.title('Correlation of stock return')\n",
    "\n",
    "plt.subplot(2, 2, 2)\n",
    "sns.heatmap(closing_df.corr(), annot=True, cmap='summer')\n",
    "plt.title('Correlation of stock closing price')"
   ]
  },
  {
   "cell_type": "markdown",
   "id": "fed79e61",
   "metadata": {},
   "source": [
    "Aqui podemos ver de forma más clara la diferencia. La relación mas fuerte o positiva la encontramos entre Motorola y Xiaomi en su reación en su cierre de precios"
   ]
  },
  {
   "cell_type": "markdown",
   "id": "70a162cf",
   "metadata": {},
   "source": [
    "## CALCULAR EL RIESGO"
   ]
  },
  {
   "cell_type": "markdown",
   "id": "6895a754",
   "metadata": {},
   "source": [
    "Hay muchas maneras de calcular el riesgo de una inversión, en este caso se utiliza el retorno diario en porcentajes y comprandolo con el rendimiento esperado con la desviación estandar del retorno estandar."
   ]
  },
  {
   "cell_type": "code",
   "execution_count": null,
   "id": "171afa36",
   "metadata": {},
   "outputs": [],
   "source": [
    "rets = tech_rets.dropna()\n",
    "\n",
    "area = np.pi * 20\n",
    "\n",
    "plt.figure(figsize=(10, 8))\n",
    "plt.scatter(rets.mean(), rets.std(), s=area)\n",
    "plt.xlabel('Expected return')\n",
    "plt.ylabel('Risk')\n",
    "\n",
    "for label, x, y in zip(rets.columns, rets.mean(), rets.std()):\n",
    "    plt.annotate(label, xy=(x, y), xytext=(50, 50), textcoords='offset points', ha='right', va='bottom', \n",
    "                 arrowprops=dict(arrowstyle='-', color='blue', connectionstyle='arc3,rad=-0.3'))\n"
   ]
  },
  {
   "cell_type": "code",
   "execution_count": null,
   "id": "0a4398da",
   "metadata": {},
   "outputs": [],
   "source": [
    "# Plot the data\n",
    "train = data[:training_data_len]\n",
    "valid = data[training_data_len:]\n",
    "valid['Predictions'] = predictions\n",
    "# Visualize the data\n",
    "plt.figure(figsize=(16,6))\n",
    "plt.title('Model')\n",
    "plt.xlabel('Date', fontsize=18)\n",
    "plt.ylabel('Close Price USD ($)', fontsize=18)\n",
    "plt.plot(train['Close'])\n",
    "plt.plot(valid[['Close', 'Predictions']])\n",
    "plt.legend(['Train', 'Val', 'Predictions'], loc='lower right')\n",
    "plt.show()"
   ]
  },
  {
   "cell_type": "code",
   "execution_count": null,
   "id": "8d89eb6f",
   "metadata": {},
   "outputs": [],
   "source": [
    "# Show the valid and predicted prices\n",
    "valid"
   ]
  },
  {
   "cell_type": "code",
   "execution_count": null,
   "id": "718de734",
   "metadata": {},
   "outputs": [],
   "source": []
  },
  {
   "cell_type": "code",
   "execution_count": null,
   "id": "3dc4d965",
   "metadata": {},
   "outputs": [],
   "source": []
  },
  {
   "cell_type": "code",
   "execution_count": null,
   "id": "87ef2ce3",
   "metadata": {},
   "outputs": [],
   "source": []
  }
 ],
 "metadata": {
  "kernelspec": {
   "display_name": "Python 3 (ipykernel)",
   "language": "python",
   "name": "python3"
  },
  "language_info": {
   "codemirror_mode": {
    "name": "ipython",
    "version": 3
   },
   "file_extension": ".py",
   "mimetype": "text/x-python",
   "name": "python",
   "nbconvert_exporter": "python",
   "pygments_lexer": "ipython3",
   "version": "3.10.13"
  }
 },
 "nbformat": 4,
 "nbformat_minor": 5
}
